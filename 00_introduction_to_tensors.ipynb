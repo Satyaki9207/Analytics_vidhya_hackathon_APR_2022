{
  "nbformat": 4,
  "nbformat_minor": 0,
  "metadata": {
    "colab": {
      "provenance": [],
      "authorship_tag": "ABX9TyM43RnqEHL8RJOX9cvrgXCQ",
      "include_colab_link": true
    },
    "kernelspec": {
      "name": "python3",
      "display_name": "Python 3"
    },
    "language_info": {
      "name": "python"
    }
  },
  "cells": [
    {
      "cell_type": "markdown",
      "metadata": {
        "id": "view-in-github",
        "colab_type": "text"
      },
      "source": [
        "<a href=\"https://colab.research.google.com/github/Satyaki9207/Analytics_vidhya_hackathon_APR_2022/blob/master/00_introduction_to_tensors.ipynb\" target=\"_parent\"><img src=\"https://colab.research.google.com/assets/colab-badge.svg\" alt=\"Open In Colab\"/></a>"
      ]
    },
    {
      "cell_type": "code",
      "execution_count": 16,
      "metadata": {
        "colab": {
          "base_uri": "https://localhost:8080/"
        },
        "id": "AW7EOrvOJCE4",
        "outputId": "abb78778-eb8f-4141-d505-36b2ce91bf66"
      },
      "outputs": [
        {
          "output_type": "stream",
          "name": "stdout",
          "text": [
            "2.9.2\n"
          ]
        }
      ],
      "source": [
        "import tensorflow as tf\n",
        "print(tf.__version__)"
      ]
    },
    {
      "cell_type": "code",
      "source": [
        "# craeting a scalar\n",
        "a1=tf.constant(89)\n",
        "a1"
      ],
      "metadata": {
        "colab": {
          "base_uri": "https://localhost:8080/"
        },
        "id": "HNajm_zHJHqy",
        "outputId": "f60fb55e-66f7-40c5-b476-098ee7a60f8f"
      },
      "execution_count": null,
      "outputs": [
        {
          "output_type": "execute_result",
          "data": {
            "text/plain": [
              "<tf.Tensor: shape=(), dtype=int32, numpy=89>"
            ]
          },
          "metadata": {},
          "execution_count": 3
        }
      ]
    },
    {
      "cell_type": "code",
      "source": [
        "# Number of dimensions of a tensor\n",
        "a1.ndim"
      ],
      "metadata": {
        "colab": {
          "base_uri": "https://localhost:8080/"
        },
        "id": "Mnk5yrDLJHzf",
        "outputId": "9e3c2521-5a12-4ba6-dffc-e328ee394f1e"
      },
      "execution_count": null,
      "outputs": [
        {
          "output_type": "execute_result",
          "data": {
            "text/plain": [
              "0"
            ]
          },
          "metadata": {},
          "execution_count": 4
        }
      ]
    },
    {
      "cell_type": "code",
      "source": [
        "vec=tf.constant([10,-10],dtype=tf.float16)\n",
        "vec.ndim"
      ],
      "metadata": {
        "colab": {
          "base_uri": "https://localhost:8080/"
        },
        "id": "p-VAHEqeJH7f",
        "outputId": "2f9f40e9-d51d-4e24-f9ae-334f799361de"
      },
      "execution_count": null,
      "outputs": [
        {
          "output_type": "execute_result",
          "data": {
            "text/plain": [
              "1"
            ]
          },
          "metadata": {},
          "execution_count": 11
        }
      ]
    },
    {
      "cell_type": "markdown",
      "source": [
        "### Creating tensors with `tf.Variable`"
      ],
      "metadata": {
        "id": "-DLC-Ec7PVi9"
      }
    },
    {
      "cell_type": "code",
      "source": [
        "t1=tf.Variable([10,7])\n",
        "t2=tf.constant([10,7])"
      ],
      "metadata": {
        "id": "INXTF934JIDg"
      },
      "execution_count": null,
      "outputs": []
    },
    {
      "cell_type": "code",
      "source": [
        "t1[0].assign(-5)\n",
        "t1"
      ],
      "metadata": {
        "colab": {
          "base_uri": "https://localhost:8080/"
        },
        "id": "dasO1gmRPcld",
        "outputId": "00ef0207-7437-45c8-b008-e25020790b42"
      },
      "execution_count": null,
      "outputs": [
        {
          "output_type": "execute_result",
          "data": {
            "text/plain": [
              "<tf.Variable 'Variable:0' shape=(2,) dtype=int32, numpy=array([-5,  7], dtype=int32)>"
            ]
          },
          "metadata": {},
          "execution_count": 14
        }
      ]
    },
    {
      "cell_type": "code",
      "source": [
        "# Tf.constant class has no method assign and hence values are immutable"
      ],
      "metadata": {
        "id": "nL6v9kepPdKv"
      },
      "execution_count": null,
      "outputs": []
    },
    {
      "cell_type": "code",
      "source": [
        "# Create random tensors with tf\n",
        "tf.random.normal((2,3),mean=3.5,stddev=0.85,seed=42)"
      ],
      "metadata": {
        "id": "QH9ViSLDPdTH",
        "colab": {
          "base_uri": "https://localhost:8080/"
        },
        "outputId": "a0a4e3fb-d43f-4520-dafc-f4f834edba93"
      },
      "execution_count": 19,
      "outputs": [
        {
          "output_type": "execute_result",
          "data": {
            "text/plain": [
              "<tf.Tensor: shape=(2, 3), dtype=float32, numpy=\n",
              "array([[3.261341 , 3.3829107, 2.9251199],\n",
              "       [3.5208933, 2.7404532, 2.7957978]], dtype=float32)>"
            ]
          },
          "metadata": {},
          "execution_count": 19
        }
      ]
    },
    {
      "cell_type": "code",
      "source": [
        "# Shuffling a tensor\n",
        "t1=tf.random.normal((5,4),mean=3.5,stddev=0.85,seed=42)\n",
        "tf.random.shuffle(t1)"
      ],
      "metadata": {
        "id": "NLVnrc5WPdcY",
        "colab": {
          "base_uri": "https://localhost:8080/"
        },
        "outputId": "0aba8241-f02e-4aab-a15e-2e37fdaf5350"
      },
      "execution_count": 20,
      "outputs": [
        {
          "output_type": "execute_result",
          "data": {
            "text/plain": [
              "<tf.Tensor: shape=(5, 4), dtype=float32, numpy=\n",
              "array([[3.6938424, 2.9935222, 3.4436815, 3.9829595],\n",
              "       [3.1391554, 4.5635934, 3.678839 , 3.052738 ],\n",
              "       [2.417154 , 3.8381925, 3.398679 , 2.542871 ],\n",
              "       [3.9201753, 2.6774359, 3.3955748, 4.019311 ],\n",
              "       [3.4876897, 5.1522613, 2.999082 , 4.4829655]], dtype=float32)>"
            ]
          },
          "metadata": {},
          "execution_count": 20
        }
      ]
    },
    {
      "cell_type": "code",
      "source": [
        "# Creating arrays similar to numpy\n",
        "tf.ones([3,3],dtype=tf.float16)"
      ],
      "metadata": {
        "colab": {
          "base_uri": "https://localhost:8080/"
        },
        "id": "IPMPXEt4e_mu",
        "outputId": "df71dafc-cc90-4bb7-830a-041e7ba59d68"
      },
      "execution_count": 24,
      "outputs": [
        {
          "output_type": "execute_result",
          "data": {
            "text/plain": [
              "<tf.Tensor: shape=(3, 3), dtype=float16, numpy=\n",
              "array([[1., 1., 1.],\n",
              "       [1., 1., 1.],\n",
              "       [1., 1., 1.]], dtype=float16)>"
            ]
          },
          "metadata": {},
          "execution_count": 24
        }
      ]
    },
    {
      "cell_type": "code",
      "source": [
        "tf.eye(3)"
      ],
      "metadata": {
        "colab": {
          "base_uri": "https://localhost:8080/"
        },
        "id": "4XkJph8ne_tq",
        "outputId": "1f5028ba-de25-4139-ac8b-223428389f26"
      },
      "execution_count": 25,
      "outputs": [
        {
          "output_type": "execute_result",
          "data": {
            "text/plain": [
              "<tf.Tensor: shape=(3, 3), dtype=float32, numpy=\n",
              "array([[1., 0., 0.],\n",
              "       [0., 1., 0.],\n",
              "       [0., 0., 1.]], dtype=float32)>"
            ]
          },
          "metadata": {},
          "execution_count": 25
        }
      ]
    },
    {
      "cell_type": "code",
      "source": [],
      "metadata": {
        "id": "BL3tcyole_0T"
      },
      "execution_count": null,
      "outputs": []
    }
  ]
}