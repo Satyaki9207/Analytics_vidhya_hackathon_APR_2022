{
 "cells": [
  {
   "cell_type": "code",
   "execution_count": 26,
   "id": "abdfd2fa",
   "metadata": {},
   "outputs": [],
   "source": [
    "import numpy as np\n",
    "import pandas as pd\n",
    "import matplotlib.pyplot as plt\n",
    "from statsmodels.tsa.deterministic import DeterministicProcess\n",
    "from statsmodels.tsa.deterministic import Fourier\n",
    "from time import time\n",
    "from sklearn.linear_model import Ridge\n",
    "from sklearn.multioutput import MultiOutputRegressor\n",
    "from sklearn.metrics import mean_squared_error\n",
    "\n",
    "# from xgboost import XGBRegressor\n",
    "import sys\n",
    "sys.path.insert(0,'C:/users/stone/anaconda3/envs/env1/lib/site-packages')\n",
    "from datetime import timedelta\n",
    "from lightgbm import LGBMRegressor\n",
    "\n",
    "import warnings\n",
    "warnings.filterwarnings('ignore')"
   ]
  },
  {
   "cell_type": "markdown",
   "id": "3fdd0dcf",
   "metadata": {},
   "source": [
    "<h3>Steps to be followed</h3>\n",
    "<ol>\n",
    "    <li>Read in data</li>\n",
    "    <li>Find starting and ending dates for train and test sets</li>\n",
    "    <li>Create date range containing all dates from start to end of training set with hourly frequency</li>\n",
    "    <li>Create a feature for time data with hourly frequency</li>\n",
    "    <li>Create lag features</li>\n",
    "</ol>"
   ]
  },
  {
   "cell_type": "markdown",
   "id": "f6b5b81a",
   "metadata": {},
   "source": [
    "<h4>Reading Dataset</h4>"
   ]
  },
  {
   "cell_type": "code",
   "execution_count": 2,
   "id": "244d59e5",
   "metadata": {},
   "outputs": [],
   "source": [
    "train=pd.read_csv('train.csv')\n",
    "test=pd.read_csv('test.csv')\n",
    "\n",
    "train.date=pd.to_datetime(train.date)\n",
    "test.date=pd.to_datetime(test.date)"
   ]
  },
  {
   "cell_type": "markdown",
   "id": "c73cc9a9",
   "metadata": {},
   "source": [
    "<h4>Sorting train data by date and hour</h4>"
   ]
  },
  {
   "cell_type": "code",
   "execution_count": 3,
   "id": "1cdf8c03",
   "metadata": {},
   "outputs": [
    {
     "data": {
      "text/html": [
       "<div>\n",
       "<style scoped>\n",
       "    .dataframe tbody tr th:only-of-type {\n",
       "        vertical-align: middle;\n",
       "    }\n",
       "\n",
       "    .dataframe tbody tr th {\n",
       "        vertical-align: top;\n",
       "    }\n",
       "\n",
       "    .dataframe thead th {\n",
       "        text-align: right;\n",
       "    }\n",
       "</style>\n",
       "<table border=\"1\" class=\"dataframe\">\n",
       "  <thead>\n",
       "    <tr style=\"text-align: right;\">\n",
       "      <th></th>\n",
       "      <th>date</th>\n",
       "      <th>hour</th>\n",
       "      <th>demand</th>\n",
       "    </tr>\n",
       "  </thead>\n",
       "  <tbody>\n",
       "    <tr>\n",
       "      <th>0</th>\n",
       "      <td>2018-08-18</td>\n",
       "      <td>9</td>\n",
       "      <td>91</td>\n",
       "    </tr>\n",
       "    <tr>\n",
       "      <th>1</th>\n",
       "      <td>2018-08-18</td>\n",
       "      <td>10</td>\n",
       "      <td>21</td>\n",
       "    </tr>\n",
       "    <tr>\n",
       "      <th>2</th>\n",
       "      <td>2018-08-18</td>\n",
       "      <td>13</td>\n",
       "      <td>23</td>\n",
       "    </tr>\n",
       "    <tr>\n",
       "      <th>3</th>\n",
       "      <td>2018-08-18</td>\n",
       "      <td>14</td>\n",
       "      <td>104</td>\n",
       "    </tr>\n",
       "    <tr>\n",
       "      <th>4</th>\n",
       "      <td>2018-08-18</td>\n",
       "      <td>15</td>\n",
       "      <td>81</td>\n",
       "    </tr>\n",
       "  </tbody>\n",
       "</table>\n",
       "</div>"
      ],
      "text/plain": [
       "        date  hour  demand\n",
       "0 2018-08-18     9      91\n",
       "1 2018-08-18    10      21\n",
       "2 2018-08-18    13      23\n",
       "3 2018-08-18    14     104\n",
       "4 2018-08-18    15      81"
      ]
     },
     "metadata": {},
     "output_type": "display_data"
    },
    {
     "name": "stdout",
     "output_type": "stream",
     "text": [
      "train-shape:  (18247, 3)\n"
     ]
    },
    {
     "data": {
      "text/html": [
       "<div>\n",
       "<style scoped>\n",
       "    .dataframe tbody tr th:only-of-type {\n",
       "        vertical-align: middle;\n",
       "    }\n",
       "\n",
       "    .dataframe tbody tr th {\n",
       "        vertical-align: top;\n",
       "    }\n",
       "\n",
       "    .dataframe thead th {\n",
       "        text-align: right;\n",
       "    }\n",
       "</style>\n",
       "<table border=\"1\" class=\"dataframe\">\n",
       "  <thead>\n",
       "    <tr style=\"text-align: right;\">\n",
       "      <th></th>\n",
       "      <th>date</th>\n",
       "      <th>hour</th>\n",
       "    </tr>\n",
       "  </thead>\n",
       "  <tbody>\n",
       "    <tr>\n",
       "      <th>0</th>\n",
       "      <td>2021-03-01</td>\n",
       "      <td>0</td>\n",
       "    </tr>\n",
       "    <tr>\n",
       "      <th>1</th>\n",
       "      <td>2021-03-01</td>\n",
       "      <td>1</td>\n",
       "    </tr>\n",
       "    <tr>\n",
       "      <th>2</th>\n",
       "      <td>2021-03-01</td>\n",
       "      <td>2</td>\n",
       "    </tr>\n",
       "    <tr>\n",
       "      <th>3</th>\n",
       "      <td>2021-03-01</td>\n",
       "      <td>3</td>\n",
       "    </tr>\n",
       "    <tr>\n",
       "      <th>4</th>\n",
       "      <td>2021-03-01</td>\n",
       "      <td>5</td>\n",
       "    </tr>\n",
       "  </tbody>\n",
       "</table>\n",
       "</div>"
      ],
      "text/plain": [
       "        date  hour\n",
       "0 2021-03-01     0\n",
       "1 2021-03-01     1\n",
       "2 2021-03-01     2\n",
       "3 2021-03-01     3\n",
       "4 2021-03-01     5"
      ]
     },
     "metadata": {},
     "output_type": "display_data"
    },
    {
     "name": "stdout",
     "output_type": "stream",
     "text": [
      "test-shape:  (7650, 2)\n"
     ]
    }
   ],
   "source": [
    "train=train.sort_values(by=['date','hour'])\n",
    "display(train.head())\n",
    "print('train-shape: ',train.shape)\n",
    "display(test.head())\n",
    "print('test-shape: ',test.shape)"
   ]
  },
  {
   "cell_type": "markdown",
   "id": "869dd095",
   "metadata": {},
   "source": [
    "<h4>Finding starting and ending dates for train and test sets</h4>"
   ]
  },
  {
   "cell_type": "code",
   "execution_count": 4,
   "id": "a334a124",
   "metadata": {},
   "outputs": [
    {
     "name": "stdout",
     "output_type": "stream",
     "text": [
      "Train\n",
      "------------------------------------------------------------\n",
      "Starting-date:  2018-08-18 00:00:00\n",
      "Ending-date:  2021-02-28 00:00:00\n",
      "\n",
      "\n",
      "Test\n",
      "------------------------------------------------------------\n",
      "Starting-date:  2021-03-01 00:00:00\n",
      "Ending-date:  2022-03-28 00:00:00\n",
      "\n",
      "\n"
     ]
    }
   ],
   "source": [
    "for title,df in [('Train',train),('Test',test)]:\n",
    "    print(title+'\\n'+'--'*30)\n",
    "    print('Starting-date: ',df['date'].min())\n",
    "    print('Ending-date: ',df['date'].max())\n",
    "    print('\\n')"
   ]
  },
  {
   "cell_type": "code",
   "execution_count": 5,
   "id": "820e1b4b",
   "metadata": {},
   "outputs": [],
   "source": [
    "# Generating hourly daterange for training data with hourly frequency\n",
    "df1=pd.DataFrame({'combined_date':pd.date_range(start='2018-08-18',end='2021-02-28',freq='H')})"
   ]
  },
  {
   "cell_type": "code",
   "execution_count": 6,
   "id": "5247f44e",
   "metadata": {},
   "outputs": [],
   "source": [
    "# merging hour column and datetime column\n",
    "train['combined_date']=train.date.apply(lambda x:str(x))+' '+train.hour.apply(lambda x:str(x))+':00:00'\n",
    "test['combined_date']=test.date.apply(lambda x:str(x))+' '+test.hour.apply(lambda x:str(x))+':00:00'\n",
    "\n",
    "# converting new combined date column to datetime\n",
    "train['combined_date']=pd.to_datetime(train['combined_date'])\n",
    "test['combined_date']=pd.to_datetime(test['combined_date'])\n"
   ]
  },
  {
   "cell_type": "code",
   "execution_count": 7,
   "id": "47d68853",
   "metadata": {},
   "outputs": [
    {
     "data": {
      "text/html": [
       "<div>\n",
       "<style scoped>\n",
       "    .dataframe tbody tr th:only-of-type {\n",
       "        vertical-align: middle;\n",
       "    }\n",
       "\n",
       "    .dataframe tbody tr th {\n",
       "        vertical-align: top;\n",
       "    }\n",
       "\n",
       "    .dataframe thead th {\n",
       "        text-align: right;\n",
       "    }\n",
       "</style>\n",
       "<table border=\"1\" class=\"dataframe\">\n",
       "  <thead>\n",
       "    <tr style=\"text-align: right;\">\n",
       "      <th></th>\n",
       "      <th>demand</th>\n",
       "    </tr>\n",
       "    <tr>\n",
       "      <th>combined_date</th>\n",
       "      <th></th>\n",
       "    </tr>\n",
       "  </thead>\n",
       "  <tbody>\n",
       "    <tr>\n",
       "      <th>2018-08-18 00:00:00</th>\n",
       "      <td>0.0</td>\n",
       "    </tr>\n",
       "    <tr>\n",
       "      <th>2018-08-18 01:00:00</th>\n",
       "      <td>0.0</td>\n",
       "    </tr>\n",
       "    <tr>\n",
       "      <th>2018-08-18 02:00:00</th>\n",
       "      <td>0.0</td>\n",
       "    </tr>\n",
       "    <tr>\n",
       "      <th>2018-08-18 03:00:00</th>\n",
       "      <td>0.0</td>\n",
       "    </tr>\n",
       "    <tr>\n",
       "      <th>2018-08-18 04:00:00</th>\n",
       "      <td>0.0</td>\n",
       "    </tr>\n",
       "  </tbody>\n",
       "</table>\n",
       "</div>"
      ],
      "text/plain": [
       "                     demand\n",
       "combined_date              \n",
       "2018-08-18 00:00:00     0.0\n",
       "2018-08-18 01:00:00     0.0\n",
       "2018-08-18 02:00:00     0.0\n",
       "2018-08-18 03:00:00     0.0\n",
       "2018-08-18 04:00:00     0.0"
      ]
     },
     "metadata": {},
     "output_type": "display_data"
    },
    {
     "name": "stdout",
     "output_type": "stream",
     "text": [
      "(22201, 1)\n"
     ]
    }
   ],
   "source": [
    "# Merging df1 with train to get the full time index\n",
    "df_train=pd.merge(df1,train,on='combined_date',how='left').drop(['date','hour'],axis=1).set_index('combined_date')\n",
    "del(df1)\n",
    "\n",
    "# filling NaN values with 0 since all missing timestamps can be assumed to have zero demand\n",
    "df_train=df_train.fillna(0)\n",
    "\n",
    "display(df_train.head())\n",
    "print(df_train.shape)"
   ]
  },
  {
   "cell_type": "markdown",
   "id": "cb126753",
   "metadata": {},
   "source": [
    "<h4>Creating fourier terms to capture seasonality</h4>"
   ]
  },
  {
   "cell_type": "code",
   "execution_count": 8,
   "id": "8f11b9c6",
   "metadata": {},
   "outputs": [
    {
     "data": {
      "text/html": [
       "<div>\n",
       "<style scoped>\n",
       "    .dataframe tbody tr th:only-of-type {\n",
       "        vertical-align: middle;\n",
       "    }\n",
       "\n",
       "    .dataframe tbody tr th {\n",
       "        vertical-align: top;\n",
       "    }\n",
       "\n",
       "    .dataframe thead th {\n",
       "        text-align: right;\n",
       "    }\n",
       "</style>\n",
       "<table border=\"1\" class=\"dataframe\">\n",
       "  <thead>\n",
       "    <tr style=\"text-align: right;\">\n",
       "      <th></th>\n",
       "      <th>time1</th>\n",
       "      <th>sin(1,12)</th>\n",
       "      <th>cos(1,12)</th>\n",
       "      <th>sin(1,24)</th>\n",
       "      <th>cos(1,24)</th>\n",
       "      <th>demand</th>\n",
       "    </tr>\n",
       "    <tr>\n",
       "      <th>combined_date</th>\n",
       "      <th></th>\n",
       "      <th></th>\n",
       "      <th></th>\n",
       "      <th></th>\n",
       "      <th></th>\n",
       "      <th></th>\n",
       "    </tr>\n",
       "  </thead>\n",
       "  <tbody>\n",
       "    <tr>\n",
       "      <th>2021-02-27 20:00:00</th>\n",
       "      <td>22197.0</td>\n",
       "      <td>-8.660254e-01</td>\n",
       "      <td>-5.000000e-01</td>\n",
       "      <td>-8.660254e-01</td>\n",
       "      <td>0.500000</td>\n",
       "      <td>139.0</td>\n",
       "    </tr>\n",
       "    <tr>\n",
       "      <th>2021-02-27 21:00:00</th>\n",
       "      <td>22198.0</td>\n",
       "      <td>-1.000000e+00</td>\n",
       "      <td>4.191331e-13</td>\n",
       "      <td>-7.071068e-01</td>\n",
       "      <td>0.707107</td>\n",
       "      <td>112.0</td>\n",
       "    </tr>\n",
       "    <tr>\n",
       "      <th>2021-02-27 22:00:00</th>\n",
       "      <td>22199.0</td>\n",
       "      <td>-8.660254e-01</td>\n",
       "      <td>5.000000e-01</td>\n",
       "      <td>-5.000000e-01</td>\n",
       "      <td>0.866025</td>\n",
       "      <td>57.0</td>\n",
       "    </tr>\n",
       "    <tr>\n",
       "      <th>2021-02-27 23:00:00</th>\n",
       "      <td>22200.0</td>\n",
       "      <td>-5.000000e-01</td>\n",
       "      <td>8.660254e-01</td>\n",
       "      <td>-2.588190e-01</td>\n",
       "      <td>0.965926</td>\n",
       "      <td>66.0</td>\n",
       "    </tr>\n",
       "    <tr>\n",
       "      <th>2021-02-28 00:00:00</th>\n",
       "      <td>22201.0</td>\n",
       "      <td>-3.252216e-13</td>\n",
       "      <td>1.000000e+00</td>\n",
       "      <td>-1.626108e-13</td>\n",
       "      <td>1.000000</td>\n",
       "      <td>108.0</td>\n",
       "    </tr>\n",
       "  </tbody>\n",
       "</table>\n",
       "</div>"
      ],
      "text/plain": [
       "                       time1     sin(1,12)     cos(1,12)     sin(1,24)  \\\n",
       "combined_date                                                            \n",
       "2021-02-27 20:00:00  22197.0 -8.660254e-01 -5.000000e-01 -8.660254e-01   \n",
       "2021-02-27 21:00:00  22198.0 -1.000000e+00  4.191331e-13 -7.071068e-01   \n",
       "2021-02-27 22:00:00  22199.0 -8.660254e-01  5.000000e-01 -5.000000e-01   \n",
       "2021-02-27 23:00:00  22200.0 -5.000000e-01  8.660254e-01 -2.588190e-01   \n",
       "2021-02-28 00:00:00  22201.0 -3.252216e-13  1.000000e+00 -1.626108e-13   \n",
       "\n",
       "                     cos(1,24)  demand  \n",
       "combined_date                           \n",
       "2021-02-27 20:00:00   0.500000   139.0  \n",
       "2021-02-27 21:00:00   0.707107   112.0  \n",
       "2021-02-27 22:00:00   0.866025    57.0  \n",
       "2021-02-27 23:00:00   0.965926    66.0  \n",
       "2021-02-28 00:00:00   1.000000   108.0  "
      ]
     },
     "execution_count": 8,
     "metadata": {},
     "output_type": "execute_result"
    }
   ],
   "source": [
    "# creating a new time feature from the combined date column\n",
    "dp=DeterministicProcess(index=df_train.index,\n",
    "                       constant=False,\n",
    "                       order=1,\n",
    "                    additional_terms=[Fourier(period=12,order=1),\n",
    "                                      Fourier(period=24,order=2)],\n",
    "                       drop=True)\n",
    "df1=dp.in_sample().rename(columns={'trend':'time1'})\n",
    "df_train=pd.merge(df1,df_train,on='combined_date',how='inner')\n",
    "df_train.tail()"
   ]
  },
  {
   "cell_type": "code",
   "execution_count": 9,
   "id": "0510780a",
   "metadata": {},
   "outputs": [
    {
     "data": {
      "text/html": [
       "<div>\n",
       "<style scoped>\n",
       "    .dataframe tbody tr th:only-of-type {\n",
       "        vertical-align: middle;\n",
       "    }\n",
       "\n",
       "    .dataframe tbody tr th {\n",
       "        vertical-align: top;\n",
       "    }\n",
       "\n",
       "    .dataframe thead th {\n",
       "        text-align: right;\n",
       "    }\n",
       "</style>\n",
       "<table border=\"1\" class=\"dataframe\">\n",
       "  <thead>\n",
       "    <tr style=\"text-align: right;\">\n",
       "      <th></th>\n",
       "      <th>combined_date</th>\n",
       "      <th>time1</th>\n",
       "      <th>sin(1,12)</th>\n",
       "      <th>cos(1,12)</th>\n",
       "      <th>sin(1,24)</th>\n",
       "      <th>cos(1,24)</th>\n",
       "    </tr>\n",
       "  </thead>\n",
       "  <tbody>\n",
       "    <tr>\n",
       "      <th>0</th>\n",
       "      <td>2021-03-01 00:00:00</td>\n",
       "      <td>22202.0</td>\n",
       "      <td>0.500000</td>\n",
       "      <td>8.660254e-01</td>\n",
       "      <td>0.258819</td>\n",
       "      <td>0.965926</td>\n",
       "    </tr>\n",
       "    <tr>\n",
       "      <th>1</th>\n",
       "      <td>2021-03-01 01:00:00</td>\n",
       "      <td>22203.0</td>\n",
       "      <td>0.866025</td>\n",
       "      <td>5.000000e-01</td>\n",
       "      <td>0.500000</td>\n",
       "      <td>0.866025</td>\n",
       "    </tr>\n",
       "    <tr>\n",
       "      <th>2</th>\n",
       "      <td>2021-03-01 02:00:00</td>\n",
       "      <td>22204.0</td>\n",
       "      <td>1.000000</td>\n",
       "      <td>1.069576e-12</td>\n",
       "      <td>0.707107</td>\n",
       "      <td>0.707107</td>\n",
       "    </tr>\n",
       "    <tr>\n",
       "      <th>3</th>\n",
       "      <td>2021-03-01 03:00:00</td>\n",
       "      <td>22205.0</td>\n",
       "      <td>0.866025</td>\n",
       "      <td>-5.000000e-01</td>\n",
       "      <td>0.866025</td>\n",
       "      <td>0.500000</td>\n",
       "    </tr>\n",
       "    <tr>\n",
       "      <th>4</th>\n",
       "      <td>2021-03-01 05:00:00</td>\n",
       "      <td>22206.0</td>\n",
       "      <td>0.500000</td>\n",
       "      <td>-8.660254e-01</td>\n",
       "      <td>0.965926</td>\n",
       "      <td>0.258819</td>\n",
       "    </tr>\n",
       "  </tbody>\n",
       "</table>\n",
       "</div>"
      ],
      "text/plain": [
       "        combined_date    time1  sin(1,12)     cos(1,12)  sin(1,24)  cos(1,24)\n",
       "0 2021-03-01 00:00:00  22202.0   0.500000  8.660254e-01   0.258819   0.965926\n",
       "1 2021-03-01 01:00:00  22203.0   0.866025  5.000000e-01   0.500000   0.866025\n",
       "2 2021-03-01 02:00:00  22204.0   1.000000  1.069576e-12   0.707107   0.707107\n",
       "3 2021-03-01 03:00:00  22205.0   0.866025 -5.000000e-01   0.866025   0.500000\n",
       "4 2021-03-01 05:00:00  22206.0   0.500000 -8.660254e-01   0.965926   0.258819"
      ]
     },
     "execution_count": 9,
     "metadata": {},
     "output_type": "execute_result"
    }
   ],
   "source": [
    "df1=dp.out_of_sample(test.shape[0]).set_index(test.combined_date).rename(columns={'trend':'time1'})\n",
    "df_test=pd.merge(df1,test,on='combined_date',how='inner')\n",
    "df_test.drop(['date','hour'],axis=1,inplace=True)\n",
    "df_test.head()"
   ]
  },
  {
   "cell_type": "markdown",
   "id": "e3a95a12",
   "metadata": {},
   "source": [
    "#### Plotting demand to visualize Data"
   ]
  },
  {
   "cell_type": "code",
   "execution_count": 10,
   "id": "3333eb71",
   "metadata": {},
   "outputs": [
    {
     "data": {
      "image/png": "[encoded data removed]",
      "text/plain": [
       "<Figure size 864x360 with 1 Axes>"
      ]
     },
     "metadata": {
      "needs_background": "light"
     },
     "output_type": "display_data"
    }
   ],
   "source": [
    "df_train['demand'].plot(figsize=(12,5),alpha=0.75,color='#827397')\n",
    "\n",
    "# Setting title\n",
    "plt.title('Overall Data Distribution\\n',fontdict={'fontsize':20,'fontweight':5,'color':'#069A8E'})\n",
    "\n",
    "# setting xlabels and ylabels\n",
    "plt.xlabel('Time',fontdict={'fontsize':14,'fontweight':5,'color':'#069A8E'})\n",
    "plt.ylabel('Demand',fontdict={'fontsize':14,'fontweight':5,'color':'#069A8E'});"
   ]
  },
  {
   "cell_type": "markdown",
   "id": "d2a1bfac",
   "metadata": {},
   "source": [
    "It looks like data for the month of December,2020 is missing"
   ]
  },
  {
   "cell_type": "code",
   "execution_count": 11,
   "id": "671f6529",
   "metadata": {},
   "outputs": [
    {
     "data": {
      "image/png": "[encoded data removed]",
      "text/plain": [
       "<Figure size 864x360 with 1 Axes>"
      ]
     },
     "metadata": {
      "needs_background": "light"
     },
     "output_type": "display_data"
    }
   ],
   "source": [
    "# Plotting data for december for 3 years\n",
    "december_2018=df_train.loc[(df_train.index.year==2018) &(df_train.index.month==12)].reset_index()\n",
    "december_2019=df_train.loc[(df_train.index.year==2019) &(df_train.index.month==12)].reset_index()\n",
    "december_2020=df_train.loc[(df_train.index.year==2020) &(df_train.index.month==12)].reset_index()\n",
    "\n",
    "december_2018['demand'].plot(figsize=(12,5),label='december_2018',color='orange')\n",
    "december_2019['demand'].plot(figsize=(12,5),label='december_2019',color='blue',alpha=0.5)\n",
    "december_2020['demand'].plot(figsize=(12,5),label='december_2020',color='green',alpha=0.5)\n",
    "\n",
    "\n",
    "plt.legend();"
   ]
  },
  {
   "cell_type": "markdown",
   "id": "e93c1e97",
   "metadata": {},
   "source": [
    "December,2020 has missing data from 2020-12-01 to 2020-12-26. So these values will be replaced by average values from previous years"
   ]
  },
  {
   "cell_type": "code",
   "execution_count": 12,
   "id": "ec7548bd",
   "metadata": {},
   "outputs": [],
   "source": [
    "# Imputing missing values in december 2020 with average values from previous years\n",
    "\n",
    "imputed_demand=0.5*(df_train.loc['2018-12-01':'2018-12-26','demand'].values+\\\n",
    "                    df_train.loc['2019-12-01':'2019-12-26','demand'].values)\n",
    "\n",
    "df_train.loc['2020-12-01':'2020-12-26','demand']=imputed_demand"
   ]
  },
  {
   "cell_type": "code",
   "execution_count": 13,
   "id": "c5eee89a",
   "metadata": {},
   "outputs": [
    {
     "data": {
      "text/plain": [
       "<AxesSubplot:xlabel='combined_date'>"
      ]
     },
     "execution_count": 13,
     "metadata": {},
     "output_type": "execute_result"
    },
    {
     "data": {
      "image/png": "[encoded data removed]",
      "text/plain": [
       "<Figure size 864x360 with 1 Axes>"
      ]
     },
     "metadata": {
      "needs_background": "light"
     },
     "output_type": "display_data"
    }
   ],
   "source": [
    "# Plotting the corrected data\n",
    "df_train['demand'].plot(figsize=(12,5),alpha=0.75,color='#827397')"
   ]
  },
  {
   "cell_type": "code",
   "execution_count": 14,
   "id": "c1726335",
   "metadata": {},
   "outputs": [
    {
     "name": "stdout",
     "output_type": "stream",
     "text": [
      "Done!\n"
     ]
    }
   ],
   "source": [
    "df_test.set_index('combined_date',inplace=True)\n",
    "print('Done!')"
   ]
  },
  {
   "cell_type": "markdown",
   "id": "1335d344",
   "metadata": {},
   "source": [
    "<h4>Creating Lag Features</h4>"
   ]
  },
  {
   "cell_type": "code",
   "execution_count": 15,
   "id": "abe7987a",
   "metadata": {},
   "outputs": [],
   "source": [
    "def make_lags(df,col_names,n_lags=20):\n",
    "    '''\n",
    "    Creates lag_features from a list of features for a data frame\n",
    "    \n",
    "    Inputs\n",
    "    ------------------------------\n",
    "    df- the daataframe\n",
    "    col_name--list of strings indicating column names from which features need to be created\n",
    "    n_lags: number of lags to be created\n",
    "    \n",
    "    Outputs\n",
    "    ------------------------------\n",
    "    consolidated dataframe containing the lag features\n",
    "    '''\n",
    "    \n",
    "    data=df.copy(deep=True)\n",
    "    \n",
    "    for col in col_names:\n",
    "        for i in range(1,n_lags+1):\n",
    "            data.loc[:,col+'_lag_'+str(i)]=data[col].shift(i)\n",
    "    \n",
    "    # fill NaN values with 0\n",
    "    data.fillna(0,inplace=True)\n",
    "    return data\n",
    "\n",
    "def make_leads(df,col_names,n_leads=5):\n",
    "    '''\n",
    "    Creates lead_features from a list of features for a data frame\n",
    "    \n",
    "    Inputs\n",
    "    ------------------------------\n",
    "    df- the daataframe\n",
    "    col_name--list of strings indicating column names from which features need to be created\n",
    "    n_lags: number of lags to be created\n",
    "    \n",
    "    Outputs\n",
    "    ------------------------------\n",
    "    consolidated dataframe containing the lead features\n",
    "    '''\n",
    "    data=df.copy(deep=True)\n",
    "    \n",
    "    for col in col_names:\n",
    "        for i in range(1,n_leads+1):\n",
    "            data.loc[:,col+'_lead_'+str(i)]=data[col].shift(-i)\n",
    "            \n",
    "    return data"
   ]
  },
  {
   "cell_type": "markdown",
   "id": "2994c6fc",
   "metadata": {},
   "source": [
    "#### Creating Features"
   ]
  },
  {
   "cell_type": "code",
   "execution_count": 16,
   "id": "57131d4a",
   "metadata": {},
   "outputs": [
    {
     "data": {
      "text/html": [
       "<div>\n",
       "<style scoped>\n",
       "    .dataframe tbody tr th:only-of-type {\n",
       "        vertical-align: middle;\n",
       "    }\n",
       "\n",
       "    .dataframe tbody tr th {\n",
       "        vertical-align: top;\n",
       "    }\n",
       "\n",
       "    .dataframe thead th {\n",
       "        text-align: right;\n",
       "    }\n",
       "</style>\n",
       "<table border=\"1\" class=\"dataframe\">\n",
       "  <thead>\n",
       "    <tr style=\"text-align: right;\">\n",
       "      <th></th>\n",
       "      <th>sin(1,12)</th>\n",
       "      <th>cos(1,12)</th>\n",
       "      <th>sin(1,24)</th>\n",
       "      <th>cos(1,24)</th>\n",
       "      <th>demand</th>\n",
       "      <th>log10_time</th>\n",
       "    </tr>\n",
       "    <tr>\n",
       "      <th>combined_date</th>\n",
       "      <th></th>\n",
       "      <th></th>\n",
       "      <th></th>\n",
       "      <th></th>\n",
       "      <th></th>\n",
       "      <th></th>\n",
       "    </tr>\n",
       "  </thead>\n",
       "  <tbody>\n",
       "    <tr>\n",
       "      <th>2018-08-18 00:00:00</th>\n",
       "      <td>0.000000</td>\n",
       "      <td>1.000000e+00</td>\n",
       "      <td>0.000000</td>\n",
       "      <td>1.000000</td>\n",
       "      <td>0.0</td>\n",
       "      <td>0.301030</td>\n",
       "    </tr>\n",
       "    <tr>\n",
       "      <th>2018-08-18 01:00:00</th>\n",
       "      <td>0.500000</td>\n",
       "      <td>8.660254e-01</td>\n",
       "      <td>0.258819</td>\n",
       "      <td>0.965926</td>\n",
       "      <td>0.0</td>\n",
       "      <td>0.477121</td>\n",
       "    </tr>\n",
       "    <tr>\n",
       "      <th>2018-08-18 02:00:00</th>\n",
       "      <td>0.866025</td>\n",
       "      <td>5.000000e-01</td>\n",
       "      <td>0.500000</td>\n",
       "      <td>0.866025</td>\n",
       "      <td>0.0</td>\n",
       "      <td>0.602060</td>\n",
       "    </tr>\n",
       "    <tr>\n",
       "      <th>2018-08-18 03:00:00</th>\n",
       "      <td>1.000000</td>\n",
       "      <td>6.123234e-17</td>\n",
       "      <td>0.707107</td>\n",
       "      <td>0.707107</td>\n",
       "      <td>0.0</td>\n",
       "      <td>0.698970</td>\n",
       "    </tr>\n",
       "    <tr>\n",
       "      <th>2018-08-18 04:00:00</th>\n",
       "      <td>0.866025</td>\n",
       "      <td>-5.000000e-01</td>\n",
       "      <td>0.866025</td>\n",
       "      <td>0.500000</td>\n",
       "      <td>0.0</td>\n",
       "      <td>0.778151</td>\n",
       "    </tr>\n",
       "  </tbody>\n",
       "</table>\n",
       "</div>"
      ],
      "text/plain": [
       "                     sin(1,12)     cos(1,12)  sin(1,24)  cos(1,24)  demand  \\\n",
       "combined_date                                                                \n",
       "2018-08-18 00:00:00   0.000000  1.000000e+00   0.000000   1.000000     0.0   \n",
       "2018-08-18 01:00:00   0.500000  8.660254e-01   0.258819   0.965926     0.0   \n",
       "2018-08-18 02:00:00   0.866025  5.000000e-01   0.500000   0.866025     0.0   \n",
       "2018-08-18 03:00:00   1.000000  6.123234e-17   0.707107   0.707107     0.0   \n",
       "2018-08-18 04:00:00   0.866025 -5.000000e-01   0.866025   0.500000     0.0   \n",
       "\n",
       "                     log10_time  \n",
       "combined_date                    \n",
       "2018-08-18 00:00:00    0.301030  \n",
       "2018-08-18 01:00:00    0.477121  \n",
       "2018-08-18 02:00:00    0.602060  \n",
       "2018-08-18 03:00:00    0.698970  \n",
       "2018-08-18 04:00:00    0.778151  "
      ]
     },
     "execution_count": 16,
     "metadata": {},
     "output_type": "execute_result"
    }
   ],
   "source": [
    "df_train['log10_time']=df_train['time1'].apply(lambda x:np.log10(1+x))\n",
    "df_train.drop('time1',axis=1,inplace=True)\n",
    "df_train.head()"
   ]
  },
  {
   "cell_type": "markdown",
   "id": "b0a157ff",
   "metadata": {},
   "source": [
    "#### Creating lags"
   ]
  },
  {
   "cell_type": "code",
   "execution_count": 17,
   "id": "db82b0d8",
   "metadata": {},
   "outputs": [
    {
     "data": {
      "text/html": [
       "<div>\n",
       "<style scoped>\n",
       "    .dataframe tbody tr th:only-of-type {\n",
       "        vertical-align: middle;\n",
       "    }\n",
       "\n",
       "    .dataframe tbody tr th {\n",
       "        vertical-align: top;\n",
       "    }\n",
       "\n",
       "    .dataframe thead th {\n",
       "        text-align: right;\n",
       "    }\n",
       "</style>\n",
       "<table border=\"1\" class=\"dataframe\">\n",
       "  <thead>\n",
       "    <tr style=\"text-align: right;\">\n",
       "      <th></th>\n",
       "      <th>sin(1,12)</th>\n",
       "      <th>cos(1,12)</th>\n",
       "      <th>sin(1,24)</th>\n",
       "      <th>cos(1,24)</th>\n",
       "      <th>log10_time</th>\n",
       "      <th>demand_lag_1</th>\n",
       "      <th>demand_lag_2</th>\n",
       "      <th>demand_lag_3</th>\n",
       "      <th>demand_lag_4</th>\n",
       "      <th>demand_lag_5</th>\n",
       "      <th>...</th>\n",
       "      <th>demand_lag_21</th>\n",
       "      <th>demand_lag_22</th>\n",
       "      <th>demand_lag_23</th>\n",
       "      <th>demand_lag_24</th>\n",
       "      <th>demand_lag_25</th>\n",
       "      <th>demand_lag_26</th>\n",
       "      <th>demand_lag_27</th>\n",
       "      <th>demand_lag_28</th>\n",
       "      <th>demand_lag_29</th>\n",
       "      <th>demand_lag_30</th>\n",
       "    </tr>\n",
       "    <tr>\n",
       "      <th>combined_date</th>\n",
       "      <th></th>\n",
       "      <th></th>\n",
       "      <th></th>\n",
       "      <th></th>\n",
       "      <th></th>\n",
       "      <th></th>\n",
       "      <th></th>\n",
       "      <th></th>\n",
       "      <th></th>\n",
       "      <th></th>\n",
       "      <th></th>\n",
       "      <th></th>\n",
       "      <th></th>\n",
       "      <th></th>\n",
       "      <th></th>\n",
       "      <th></th>\n",
       "      <th></th>\n",
       "      <th></th>\n",
       "      <th></th>\n",
       "      <th></th>\n",
       "      <th></th>\n",
       "    </tr>\n",
       "  </thead>\n",
       "  <tbody>\n",
       "    <tr>\n",
       "      <th>2018-08-18 00:00:00</th>\n",
       "      <td>0.000000</td>\n",
       "      <td>1.000000e+00</td>\n",
       "      <td>0.000000</td>\n",
       "      <td>1.000000</td>\n",
       "      <td>0.301030</td>\n",
       "      <td>0.0</td>\n",
       "      <td>0.0</td>\n",
       "      <td>0.0</td>\n",
       "      <td>0.0</td>\n",
       "      <td>0.0</td>\n",
       "      <td>...</td>\n",
       "      <td>0.0</td>\n",
       "      <td>0.0</td>\n",
       "      <td>0.0</td>\n",
       "      <td>0.0</td>\n",
       "      <td>0.0</td>\n",
       "      <td>0.0</td>\n",
       "      <td>0.0</td>\n",
       "      <td>0.0</td>\n",
       "      <td>0.0</td>\n",
       "      <td>0.0</td>\n",
       "    </tr>\n",
       "    <tr>\n",
       "      <th>2018-08-18 01:00:00</th>\n",
       "      <td>0.500000</td>\n",
       "      <td>8.660254e-01</td>\n",
       "      <td>0.258819</td>\n",
       "      <td>0.965926</td>\n",
       "      <td>0.477121</td>\n",
       "      <td>0.0</td>\n",
       "      <td>0.0</td>\n",
       "      <td>0.0</td>\n",
       "      <td>0.0</td>\n",
       "      <td>0.0</td>\n",
       "      <td>...</td>\n",
       "      <td>0.0</td>\n",
       "      <td>0.0</td>\n",
       "      <td>0.0</td>\n",
       "      <td>0.0</td>\n",
       "      <td>0.0</td>\n",
       "      <td>0.0</td>\n",
       "      <td>0.0</td>\n",
       "      <td>0.0</td>\n",
       "      <td>0.0</td>\n",
       "      <td>0.0</td>\n",
       "    </tr>\n",
       "    <tr>\n",
       "      <th>2018-08-18 02:00:00</th>\n",
       "      <td>0.866025</td>\n",
       "      <td>5.000000e-01</td>\n",
       "      <td>0.500000</td>\n",
       "      <td>0.866025</td>\n",
       "      <td>0.602060</td>\n",
       "      <td>0.0</td>\n",
       "      <td>0.0</td>\n",
       "      <td>0.0</td>\n",
       "      <td>0.0</td>\n",
       "      <td>0.0</td>\n",
       "      <td>...</td>\n",
       "      <td>0.0</td>\n",
       "      <td>0.0</td>\n",
       "      <td>0.0</td>\n",
       "      <td>0.0</td>\n",
       "      <td>0.0</td>\n",
       "      <td>0.0</td>\n",
       "      <td>0.0</td>\n",
       "      <td>0.0</td>\n",
       "      <td>0.0</td>\n",
       "      <td>0.0</td>\n",
       "    </tr>\n",
       "    <tr>\n",
       "      <th>2018-08-18 03:00:00</th>\n",
       "      <td>1.000000</td>\n",
       "      <td>6.123234e-17</td>\n",
       "      <td>0.707107</td>\n",
       "      <td>0.707107</td>\n",
       "      <td>0.698970</td>\n",
       "      <td>0.0</td>\n",
       "      <td>0.0</td>\n",
       "      <td>0.0</td>\n",
       "      <td>0.0</td>\n",
       "      <td>0.0</td>\n",
       "      <td>...</td>\n",
       "      <td>0.0</td>\n",
       "      <td>0.0</td>\n",
       "      <td>0.0</td>\n",
       "      <td>0.0</td>\n",
       "      <td>0.0</td>\n",
       "      <td>0.0</td>\n",
       "      <td>0.0</td>\n",
       "      <td>0.0</td>\n",
       "      <td>0.0</td>\n",
       "      <td>0.0</td>\n",
       "    </tr>\n",
       "    <tr>\n",
       "      <th>2018-08-18 04:00:00</th>\n",
       "      <td>0.866025</td>\n",
       "      <td>-5.000000e-01</td>\n",
       "      <td>0.866025</td>\n",
       "      <td>0.500000</td>\n",
       "      <td>0.778151</td>\n",
       "      <td>0.0</td>\n",
       "      <td>0.0</td>\n",
       "      <td>0.0</td>\n",
       "      <td>0.0</td>\n",
       "      <td>0.0</td>\n",
       "      <td>...</td>\n",
       "      <td>0.0</td>\n",
       "      <td>0.0</td>\n",
       "      <td>0.0</td>\n",
       "      <td>0.0</td>\n",
       "      <td>0.0</td>\n",
       "      <td>0.0</td>\n",
       "      <td>0.0</td>\n",
       "      <td>0.0</td>\n",
       "      <td>0.0</td>\n",
       "      <td>0.0</td>\n",
       "    </tr>\n",
       "  </tbody>\n",
       "</table>\n",
       "<p>5 rows × 35 columns</p>\n",
       "</div>"
      ],
      "text/plain": [
       "                     sin(1,12)     cos(1,12)  sin(1,24)  cos(1,24)  \\\n",
       "combined_date                                                        \n",
       "2018-08-18 00:00:00   0.000000  1.000000e+00   0.000000   1.000000   \n",
       "2018-08-18 01:00:00   0.500000  8.660254e-01   0.258819   0.965926   \n",
       "2018-08-18 02:00:00   0.866025  5.000000e-01   0.500000   0.866025   \n",
       "2018-08-18 03:00:00   1.000000  6.123234e-17   0.707107   0.707107   \n",
       "2018-08-18 04:00:00   0.866025 -5.000000e-01   0.866025   0.500000   \n",
       "\n",
       "                     log10_time  demand_lag_1  demand_lag_2  demand_lag_3  \\\n",
       "combined_date                                                               \n",
       "2018-08-18 00:00:00    0.301030           0.0           0.0           0.0   \n",
       "2018-08-18 01:00:00    0.477121           0.0           0.0           0.0   \n",
       "2018-08-18 02:00:00    0.602060           0.0           0.0           0.0   \n",
       "2018-08-18 03:00:00    0.698970           0.0           0.0           0.0   \n",
       "2018-08-18 04:00:00    0.778151           0.0           0.0           0.0   \n",
       "\n",
       "                     demand_lag_4  demand_lag_5  ...  demand_lag_21  \\\n",
       "combined_date                                    ...                  \n",
       "2018-08-18 00:00:00           0.0           0.0  ...            0.0   \n",
       "2018-08-18 01:00:00           0.0           0.0  ...            0.0   \n",
       "2018-08-18 02:00:00           0.0           0.0  ...            0.0   \n",
       "2018-08-18 03:00:00           0.0           0.0  ...            0.0   \n",
       "2018-08-18 04:00:00           0.0           0.0  ...            0.0   \n",
       "\n",
       "                     demand_lag_22  demand_lag_23  demand_lag_24  \\\n",
       "combined_date                                                      \n",
       "2018-08-18 00:00:00            0.0            0.0            0.0   \n",
       "2018-08-18 01:00:00            0.0            0.0            0.0   \n",
       "2018-08-18 02:00:00            0.0            0.0            0.0   \n",
       "2018-08-18 03:00:00            0.0            0.0            0.0   \n",
       "2018-08-18 04:00:00            0.0            0.0            0.0   \n",
       "\n",
       "                     demand_lag_25  demand_lag_26  demand_lag_27  \\\n",
       "combined_date                                                      \n",
       "2018-08-18 00:00:00            0.0            0.0            0.0   \n",
       "2018-08-18 01:00:00            0.0            0.0            0.0   \n",
       "2018-08-18 02:00:00            0.0            0.0            0.0   \n",
       "2018-08-18 03:00:00            0.0            0.0            0.0   \n",
       "2018-08-18 04:00:00            0.0            0.0            0.0   \n",
       "\n",
       "                     demand_lag_28  demand_lag_29  demand_lag_30  \n",
       "combined_date                                                     \n",
       "2018-08-18 00:00:00            0.0            0.0            0.0  \n",
       "2018-08-18 01:00:00            0.0            0.0            0.0  \n",
       "2018-08-18 02:00:00            0.0            0.0            0.0  \n",
       "2018-08-18 03:00:00            0.0            0.0            0.0  \n",
       "2018-08-18 04:00:00            0.0            0.0            0.0  \n",
       "\n",
       "[5 rows x 35 columns]"
      ]
     },
     "execution_count": 17,
     "metadata": {},
     "output_type": "execute_result"
    }
   ],
   "source": [
    "num_lags=30\n",
    "df_train1=make_lags(df_train,['demand'],n_lags=num_lags)\n",
    "\n",
    "df_train1.drop('demand',axis=1,inplace=True)\n",
    "df_train1.head()"
   ]
  },
  {
   "cell_type": "code",
   "execution_count": 18,
   "id": "142535c8",
   "metadata": {},
   "outputs": [
    {
     "data": {
      "text/html": [
       "<div>\n",
       "<style scoped>\n",
       "    .dataframe tbody tr th:only-of-type {\n",
       "        vertical-align: middle;\n",
       "    }\n",
       "\n",
       "    .dataframe tbody tr th {\n",
       "        vertical-align: top;\n",
       "    }\n",
       "\n",
       "    .dataframe thead th {\n",
       "        text-align: right;\n",
       "    }\n",
       "</style>\n",
       "<table border=\"1\" class=\"dataframe\">\n",
       "  <thead>\n",
       "    <tr style=\"text-align: right;\">\n",
       "      <th></th>\n",
       "      <th>demand</th>\n",
       "      <th>demand_lead_1</th>\n",
       "      <th>demand_lead_2</th>\n",
       "      <th>demand_lead_3</th>\n",
       "      <th>demand_lead_4</th>\n",
       "      <th>demand_lead_5</th>\n",
       "      <th>demand_lead_6</th>\n",
       "      <th>demand_lead_7</th>\n",
       "      <th>demand_lead_8</th>\n",
       "      <th>demand_lead_9</th>\n",
       "      <th>...</th>\n",
       "      <th>demand_lead_756</th>\n",
       "      <th>demand_lead_757</th>\n",
       "      <th>demand_lead_758</th>\n",
       "      <th>demand_lead_759</th>\n",
       "      <th>demand_lead_760</th>\n",
       "      <th>demand_lead_761</th>\n",
       "      <th>demand_lead_762</th>\n",
       "      <th>demand_lead_763</th>\n",
       "      <th>demand_lead_764</th>\n",
       "      <th>demand_lead_765</th>\n",
       "    </tr>\n",
       "    <tr>\n",
       "      <th>combined_date</th>\n",
       "      <th></th>\n",
       "      <th></th>\n",
       "      <th></th>\n",
       "      <th></th>\n",
       "      <th></th>\n",
       "      <th></th>\n",
       "      <th></th>\n",
       "      <th></th>\n",
       "      <th></th>\n",
       "      <th></th>\n",
       "      <th></th>\n",
       "      <th></th>\n",
       "      <th></th>\n",
       "      <th></th>\n",
       "      <th></th>\n",
       "      <th></th>\n",
       "      <th></th>\n",
       "      <th></th>\n",
       "      <th></th>\n",
       "      <th></th>\n",
       "      <th></th>\n",
       "    </tr>\n",
       "  </thead>\n",
       "  <tbody>\n",
       "    <tr>\n",
       "      <th>2021-01-26 23:00:00</th>\n",
       "      <td>0.0</td>\n",
       "      <td>25.0</td>\n",
       "      <td>32.0</td>\n",
       "      <td>14.0</td>\n",
       "      <td>0.0</td>\n",
       "      <td>36.0</td>\n",
       "      <td>53.0</td>\n",
       "      <td>43.0</td>\n",
       "      <td>101.0</td>\n",
       "      <td>42.0</td>\n",
       "      <td>...</td>\n",
       "      <td>88.0</td>\n",
       "      <td>160.0</td>\n",
       "      <td>120.0</td>\n",
       "      <td>125.0</td>\n",
       "      <td>109.0</td>\n",
       "      <td>73.0</td>\n",
       "      <td>116.0</td>\n",
       "      <td>142.0</td>\n",
       "      <td>58.0</td>\n",
       "      <td>139.0</td>\n",
       "    </tr>\n",
       "    <tr>\n",
       "      <th>2021-01-27 00:00:00</th>\n",
       "      <td>25.0</td>\n",
       "      <td>32.0</td>\n",
       "      <td>14.0</td>\n",
       "      <td>0.0</td>\n",
       "      <td>36.0</td>\n",
       "      <td>53.0</td>\n",
       "      <td>43.0</td>\n",
       "      <td>101.0</td>\n",
       "      <td>42.0</td>\n",
       "      <td>121.0</td>\n",
       "      <td>...</td>\n",
       "      <td>160.0</td>\n",
       "      <td>120.0</td>\n",
       "      <td>125.0</td>\n",
       "      <td>109.0</td>\n",
       "      <td>73.0</td>\n",
       "      <td>116.0</td>\n",
       "      <td>142.0</td>\n",
       "      <td>58.0</td>\n",
       "      <td>139.0</td>\n",
       "      <td>112.0</td>\n",
       "    </tr>\n",
       "    <tr>\n",
       "      <th>2021-01-27 01:00:00</th>\n",
       "      <td>32.0</td>\n",
       "      <td>14.0</td>\n",
       "      <td>0.0</td>\n",
       "      <td>36.0</td>\n",
       "      <td>53.0</td>\n",
       "      <td>43.0</td>\n",
       "      <td>101.0</td>\n",
       "      <td>42.0</td>\n",
       "      <td>121.0</td>\n",
       "      <td>40.0</td>\n",
       "      <td>...</td>\n",
       "      <td>120.0</td>\n",
       "      <td>125.0</td>\n",
       "      <td>109.0</td>\n",
       "      <td>73.0</td>\n",
       "      <td>116.0</td>\n",
       "      <td>142.0</td>\n",
       "      <td>58.0</td>\n",
       "      <td>139.0</td>\n",
       "      <td>112.0</td>\n",
       "      <td>57.0</td>\n",
       "    </tr>\n",
       "    <tr>\n",
       "      <th>2021-01-27 02:00:00</th>\n",
       "      <td>14.0</td>\n",
       "      <td>0.0</td>\n",
       "      <td>36.0</td>\n",
       "      <td>53.0</td>\n",
       "      <td>43.0</td>\n",
       "      <td>101.0</td>\n",
       "      <td>42.0</td>\n",
       "      <td>121.0</td>\n",
       "      <td>40.0</td>\n",
       "      <td>29.0</td>\n",
       "      <td>...</td>\n",
       "      <td>125.0</td>\n",
       "      <td>109.0</td>\n",
       "      <td>73.0</td>\n",
       "      <td>116.0</td>\n",
       "      <td>142.0</td>\n",
       "      <td>58.0</td>\n",
       "      <td>139.0</td>\n",
       "      <td>112.0</td>\n",
       "      <td>57.0</td>\n",
       "      <td>66.0</td>\n",
       "    </tr>\n",
       "    <tr>\n",
       "      <th>2021-01-27 03:00:00</th>\n",
       "      <td>0.0</td>\n",
       "      <td>36.0</td>\n",
       "      <td>53.0</td>\n",
       "      <td>43.0</td>\n",
       "      <td>101.0</td>\n",
       "      <td>42.0</td>\n",
       "      <td>121.0</td>\n",
       "      <td>40.0</td>\n",
       "      <td>29.0</td>\n",
       "      <td>52.0</td>\n",
       "      <td>...</td>\n",
       "      <td>109.0</td>\n",
       "      <td>73.0</td>\n",
       "      <td>116.0</td>\n",
       "      <td>142.0</td>\n",
       "      <td>58.0</td>\n",
       "      <td>139.0</td>\n",
       "      <td>112.0</td>\n",
       "      <td>57.0</td>\n",
       "      <td>66.0</td>\n",
       "      <td>108.0</td>\n",
       "    </tr>\n",
       "  </tbody>\n",
       "</table>\n",
       "<p>5 rows × 766 columns</p>\n",
       "</div>"
      ],
      "text/plain": [
       "                     demand  demand_lead_1  demand_lead_2  demand_lead_3  \\\n",
       "combined_date                                                              \n",
       "2021-01-26 23:00:00     0.0           25.0           32.0           14.0   \n",
       "2021-01-27 00:00:00    25.0           32.0           14.0            0.0   \n",
       "2021-01-27 01:00:00    32.0           14.0            0.0           36.0   \n",
       "2021-01-27 02:00:00    14.0            0.0           36.0           53.0   \n",
       "2021-01-27 03:00:00     0.0           36.0           53.0           43.0   \n",
       "\n",
       "                     demand_lead_4  demand_lead_5  demand_lead_6  \\\n",
       "combined_date                                                      \n",
       "2021-01-26 23:00:00            0.0           36.0           53.0   \n",
       "2021-01-27 00:00:00           36.0           53.0           43.0   \n",
       "2021-01-27 01:00:00           53.0           43.0          101.0   \n",
       "2021-01-27 02:00:00           43.0          101.0           42.0   \n",
       "2021-01-27 03:00:00          101.0           42.0          121.0   \n",
       "\n",
       "                     demand_lead_7  demand_lead_8  demand_lead_9  ...  \\\n",
       "combined_date                                                     ...   \n",
       "2021-01-26 23:00:00           43.0          101.0           42.0  ...   \n",
       "2021-01-27 00:00:00          101.0           42.0          121.0  ...   \n",
       "2021-01-27 01:00:00           42.0          121.0           40.0  ...   \n",
       "2021-01-27 02:00:00          121.0           40.0           29.0  ...   \n",
       "2021-01-27 03:00:00           40.0           29.0           52.0  ...   \n",
       "\n",
       "                     demand_lead_756  demand_lead_757  demand_lead_758  \\\n",
       "combined_date                                                            \n",
       "2021-01-26 23:00:00             88.0            160.0            120.0   \n",
       "2021-01-27 00:00:00            160.0            120.0            125.0   \n",
       "2021-01-27 01:00:00            120.0            125.0            109.0   \n",
       "2021-01-27 02:00:00            125.0            109.0             73.0   \n",
       "2021-01-27 03:00:00            109.0             73.0            116.0   \n",
       "\n",
       "                     demand_lead_759  demand_lead_760  demand_lead_761  \\\n",
       "combined_date                                                            \n",
       "2021-01-26 23:00:00            125.0            109.0             73.0   \n",
       "2021-01-27 00:00:00            109.0             73.0            116.0   \n",
       "2021-01-27 01:00:00             73.0            116.0            142.0   \n",
       "2021-01-27 02:00:00            116.0            142.0             58.0   \n",
       "2021-01-27 03:00:00            142.0             58.0            139.0   \n",
       "\n",
       "                     demand_lead_762  demand_lead_763  demand_lead_764  \\\n",
       "combined_date                                                            \n",
       "2021-01-26 23:00:00            116.0            142.0             58.0   \n",
       "2021-01-27 00:00:00            142.0             58.0            139.0   \n",
       "2021-01-27 01:00:00             58.0            139.0            112.0   \n",
       "2021-01-27 02:00:00            139.0            112.0             57.0   \n",
       "2021-01-27 03:00:00            112.0             57.0             66.0   \n",
       "\n",
       "                     demand_lead_765  \n",
       "combined_date                         \n",
       "2021-01-26 23:00:00            139.0  \n",
       "2021-01-27 00:00:00            112.0  \n",
       "2021-01-27 01:00:00             57.0  \n",
       "2021-01-27 02:00:00             66.0  \n",
       "2021-01-27 03:00:00            108.0  \n",
       "\n",
       "[5 rows x 766 columns]"
      ]
     },
     "metadata": {},
     "output_type": "display_data"
    },
    {
     "name": "stdout",
     "output_type": "stream",
     "text": [
      "(21436, 766)\n"
     ]
    }
   ],
   "source": [
    "num_leads=765\n",
    "Y=df_train.iloc[:,4:5]\n",
    "Y1=make_leads(Y,['demand'],n_leads=num_leads).dropna()\n",
    "display(Y1.tail())\n",
    "print(Y1.shape)"
   ]
  },
  {
   "cell_type": "code",
   "execution_count": 19,
   "id": "ada0096f",
   "metadata": {},
   "outputs": [
    {
     "name": "stdout",
     "output_type": "stream",
     "text": [
      "(21436, 35)\n",
      "(21436, 766)\n"
     ]
    }
   ],
   "source": [
    "X,y=df_train1.align(Y1,join='inner',axis=0)\n",
    "print(X.shape)\n",
    "print(y.shape)"
   ]
  },
  {
   "cell_type": "code",
   "execution_count": 20,
   "id": "0c7d6e37",
   "metadata": {},
   "outputs": [
    {
     "name": "stdout",
     "output_type": "stream",
     "text": [
      "(20670, 35)\n",
      "(766, 35)\n",
      "(20670, 766)\n",
      "(766, 766)\n"
     ]
    }
   ],
   "source": [
    "X_train,y_train=X.iloc[:-766],y.iloc[:-766]\n",
    "X_val,y_val=X.iloc[-766:],y.iloc[-766:]\n",
    "\n",
    "print(X_train.shape)\n",
    "print(X_val.shape)\n",
    "print(y_train.shape)\n",
    "print(y_val.shape)"
   ]
  },
  {
   "cell_type": "markdown",
   "id": "1bdd2ef8",
   "metadata": {},
   "source": [
    "Total length of forecast horizon(test-set) is 7650. Need to train model which predicts 765 periods ahead. Final prediction to be predicted in 11 recursive steps"
   ]
  },
  {
   "cell_type": "markdown",
   "id": "785bb18d",
   "metadata": {},
   "source": [
    "<h3>Model Building</h3>"
   ]
  },
  {
   "cell_type": "markdown",
   "id": "50a52836",
   "metadata": {},
   "source": [
    "<h4>Linear Model</h4>"
   ]
  },
  {
   "cell_type": "code",
   "execution_count": null,
   "id": "da0ce2c7",
   "metadata": {},
   "outputs": [],
   "source": [
    "start=time()\n",
    "\n",
    "lr_model=MultiOutputRegressor(Ridge(alpha=0.7,random_state=42))\n",
    "lr_model.fit(X_train,y_train)\n",
    "pred=lr_model.predict(X_val)\n",
    "\n",
    "print(time()-start)"
   ]
  },
  {
   "cell_type": "code",
   "execution_count": null,
   "id": "af692edc",
   "metadata": {},
   "outputs": [],
   "source": [
    "ll=X_train.index[-1]\n",
    "new_idx=pd.date_range(start=ll,periods=766,freq='H')+timedelta(hours=1)\n",
    "\n",
    "pred1=pd.DataFrame(pred,columns=y_val.columns,index=new_idx)\n",
    "row_pred=pd.Series(pred1.iloc[0,:].values,index=new_idx)\n",
    "\n",
    "row_pred.plot(figsize=(12,5),label='pred',color='orange')\n",
    "y_val['demand'].plot(label='original',color='blue',alpha=0.3)\n",
    "\n",
    "print('validation_Root_mean_squared_error: ',np.sqrt(mean_squared_error(y_val['demand'],row_pred)))\n",
    "plt.legend();"
   ]
  },
  {
   "cell_type": "code",
   "execution_count": null,
   "id": "e765b1f4",
   "metadata": {},
   "outputs": [],
   "source": [
    "# Refit the model on the entire dataset\n",
    "start=time()\n",
    "lr_model.fit(X,y)\n",
    "print(time()-start)"
   ]
  },
  {
   "cell_type": "code",
   "execution_count": null,
   "id": "69f6af7c",
   "metadata": {},
   "outputs": [],
   "source": []
  },
  {
   "cell_type": "markdown",
   "id": "b7ab6f02",
   "metadata": {},
   "source": [
    "#### Forecasting on unknown values"
   ]
  },
  {
   "cell_type": "code",
   "execution_count": null,
   "id": "ef665e49",
   "metadata": {},
   "outputs": [],
   "source": [
    "\n",
    "X_ex=X.copy(deep=True)\n",
    "orig_idx=X.index\n",
    "y_ex=list(y['demand'].copy(deep=True).values)\n",
    "\n",
    "ll=X.index[-1]+timedelta(hours=1)\n",
    "new_ids=pd.date_range(start=ll,periods=766*14,freq='H')\n",
    "\n",
    "col_1=['sin(1,12)','cos(1,12)','cos(1,24)','sin(1,24)','log10_time']\n",
    "# generating fourier terms for the forecast range\n",
    "dp=DeterministicProcess(index=new_ids,\n",
    "                       constant=False,\n",
    "                       order=1,\n",
    "                    additional_terms=[Fourier(period=12,order=1),\n",
    "                                      Fourier(period=24,order=2)],\n",
    "                       drop=True)\n",
    "df_fore=dp.in_sample()\n",
    "df_fore['trend']+=21436\n",
    "df_fore['log10_time']=np.log10(df_fore['trend'])\n",
    "df_fore.drop('trend',axis=1,inplace=True)\n",
    "\n",
    "\n",
    "## set loop variable here\n",
    "for step in range(14):\n",
    "    start,stop=0,1\n",
    "    x1=df_fore.iloc[start:stop]\n",
    "\n",
    "    # set lag values\n",
    "    for lag in range(1,num_lags+1):\n",
    "        x1.loc[idx,'demand_lag_'+str(lag)]=y_ex[-lag]\n",
    "\n",
    "    # predict using x1\n",
    "    y_ex.extend(list(np.ravel(lr_model.predict(x1))))\n",
    "\n",
    "    start+=766\n",
    "    stop+=766\n",
    "\n",
    "# Generating date-time index \n",
    "idx1=list(orig_idx)+list(new_ids)\n",
    "\n",
    "# generating final Predictions\n",
    "y_final=pd.Series(y_ex,index=idx1)"
   ]
  },
  {
   "cell_type": "code",
   "execution_count": null,
   "id": "31dcb780",
   "metadata": {},
   "outputs": [],
   "source": [
    "df_test,y_sub=df_test.align(y_final,join='inner',axis=0)"
   ]
  },
  {
   "cell_type": "code",
   "execution_count": null,
   "id": "7775f3fd",
   "metadata": {},
   "outputs": [],
   "source": [
    "df_test['date']=df_test.index.date\n",
    "df_test['hour']=df_test.index.hour\n",
    "df_test['demand']=y_sub\n",
    "df_test.drop(['time1', 'sin(1,12)', 'cos(1,12)', 'sin(1,24)', 'cos(1,24)'],axis=1,inplace=True)\n",
    "df_test.head()"
   ]
  },
  {
   "cell_type": "code",
   "execution_count": null,
   "id": "0a47adef",
   "metadata": {},
   "outputs": [],
   "source": [
    "df_test.to_csv('submission_DiRec_ridge.csv',index=False)\n",
    "print('Done!')"
   ]
  },
  {
   "cell_type": "code",
   "execution_count": null,
   "id": "a726af5d",
   "metadata": {},
   "outputs": [],
   "source": []
  },
  {
   "cell_type": "code",
   "execution_count": null,
   "id": "ac1decdd",
   "metadata": {},
   "outputs": [],
   "source": []
  },
  {
   "cell_type": "markdown",
   "id": "f86cd5c1",
   "metadata": {},
   "source": [
    "<h4>RandomForest Regressor</h4>"
   ]
  },
  {
   "cell_type": "code",
   "execution_count": 28,
   "id": "944a6360",
   "metadata": {},
   "outputs": [],
   "source": [
    "# xgb_model = XGBRegressor(\n",
    "#             n_estimators=1000,\n",
    "#             max_depth=5,\n",
    "#             min_child_weight=3,\n",
    "#             learning_rate=0.01,\n",
    "#             gamma=0.2,\n",
    "#             colsample_bytree=0.2,\n",
    "#             subsample=0.8)\n",
    "\n",
    "\n",
    "# xgb_m1=MultiOutputRegressor(xgb_m1)\n",
    "\n",
    "X_train1=np.array(X_train)\n",
    "y_train1=np.array(y_train)\n",
    "\n",
    "X_val1=np.array(X_val)\n",
    "y_val1=np.array(y_val)\n",
    "\n",
    "# xgb_m1.fit(\n",
    "#         X_train,\n",
    "#         y_train,\n",
    "#         eval_metric='rmse',\n",
    "#         eval_set=[(X_train, y_train), (X_val, y_val)],\n",
    "#         verbose=True, \n",
    "#         early_stopping_rounds = 10)"
   ]
  },
  {
   "cell_type": "markdown",
   "id": "2f7c4d56",
   "metadata": {},
   "source": [
    "#### LightGBM Regressor"
   ]
  },
  {
   "cell_type": "code",
   "execution_count": 29,
   "id": "1124ebb4",
   "metadata": {},
   "outputs": [
    {
     "data": {
      "text/plain": [
       "MultiOutputRegressor(estimator=LGBMRegressor())"
      ]
     },
     "execution_count": 29,
     "metadata": {},
     "output_type": "execute_result"
    }
   ],
   "source": [
    "start=time()\n",
    "base_lgbr=LGBMRegressor()\n",
    "\n",
    "mult_lgbm=MultiOutputRegressor(base_lgbr)\n",
    "mult_lgbm.fit(X_train1,y_train1)\n",
    "\n",
    "print(time()-start)"
   ]
  },
  {
   "cell_type": "code",
   "execution_count": 31,
   "id": "78593620",
   "metadata": {},
   "outputs": [
    {
     "name": "stdout",
     "output_type": "stream",
     "text": [
      "validation_Root_mean_squared_error:  38.14221919151574\n"
     ]
    },
    {
     "data": {
      "image/png": "[encoded data removed]",
      "text/plain": [
       "<Figure size 864x360 with 1 Axes>"
      ]
     },
     "metadata": {
      "needs_background": "light"
     },
     "output_type": "display_data"
    }
   ],
   "source": [
    "pred=mult_lgbm.predict(X_val1)\n",
    "ll=X_train.index[-1]\n",
    "new_idx=pd.date_range(start=ll,periods=766,freq='H')+timedelta(hours=1)\n",
    "\n",
    "pred1=pd.DataFrame(pred,columns=y_val.columns,index=new_idx)\n",
    "row_pred=pd.Series(pred1.iloc[0,:].values,index=new_idx)\n",
    "\n",
    "row_pred.plot(figsize=(12,5),label='pred',color='orange')\n",
    "y_val['demand'].plot(label='original',color='blue',alpha=0.3)\n",
    "\n",
    "print('validation_Root_mean_squared_error: ',np.sqrt(mean_squared_error(y_val['demand'],row_pred)))\n",
    "plt.legend();"
   ]
  },
  {
   "cell_type": "code",
   "execution_count": 33,
   "id": "e16d4d52",
   "metadata": {},
   "outputs": [
    {
     "name": "stdout",
     "output_type": "stream",
     "text": [
      "197.1392273902893\n"
     ]
    }
   ],
   "source": [
    "# Refit the model on the entire dataset\n",
    "start=time()\n",
    "mult_lgbm.fit(np.array(X),np.array(y))\n",
    "print(time()-start)"
   ]
  },
  {
   "cell_type": "code",
   "execution_count": null,
   "id": "fd38ea1d",
   "metadata": {},
   "outputs": [],
   "source": []
  },
  {
   "cell_type": "markdown",
   "id": "968d067b",
   "metadata": {},
   "source": [
    "<h3>Forecasting</h3>"
   ]
  },
  {
   "cell_type": "code",
   "execution_count": null,
   "id": "b7f6f592",
   "metadata": {},
   "outputs": [],
   "source": []
  },
  {
   "cell_type": "markdown",
   "id": "3f8d54d5",
   "metadata": {},
   "source": [
    "<h3>References</h3>\n",
    "<ol>\n",
    "    <li><a href='https://towardsdatascience.com/ml-time-series-forecasting-the-right-way-cbf3678845ff'>Forecasting the    right way</a></li>\n",
    "    <li><a href='https://dzone.com/articles/lessons-learnt-while-solving-time-series-forecasti-1'>dzone-article</a></li>\n",
    "</ol>"
   ]
  },
  {
   "cell_type": "code",
   "execution_count": null,
   "id": "d6c7e50c",
   "metadata": {},
   "outputs": [],
   "source": []
  }
 ],
 "metadata": {
  "hide_input": false,
  "kernelspec": {
   "display_name": "Python 3 (ipykernel)",
   "language": "python",
   "name": "python3"
  },
  "language_info": {
   "codemirror_mode": {
    "name": "ipython",
    "version": 3
   },
   "file_extension": ".py",
   "mimetype": "text/x-python",
   "name": "python",
   "nbconvert_exporter": "python",
   "pygments_lexer": "ipython3",
   "version": "3.8.8"
  }
 },
 "nbformat": 4,
 "nbformat_minor": 5
}
